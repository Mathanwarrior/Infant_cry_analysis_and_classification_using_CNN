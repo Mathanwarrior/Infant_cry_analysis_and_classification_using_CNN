{
 "cells": [
  {
   "cell_type": "code",
   "execution_count": 1,
   "id": "f8e17dc9",
   "metadata": {},
   "outputs": [],
   "source": [
    "#importing the required libraries\n",
    "import librosa\n",
    "import pandas as pd\n",
    "import numpy as np\n",
    "import matplotlib.pyplot as plt\n",
    "from keras.models import Sequential\n",
    "from keras.layers import Dense,Flatten,Conv2D,MaxPool2D,Dropout \n",
    "%matplotlib inline\n",
    "import os\n",
    "import csv\n",
    "# Preprocessing\n",
    "from sklearn.model_selection import train_test_split\n",
    "from sklearn.preprocessing import LabelEncoder, StandardScaler\n",
    "import keras\n",
    "import warnings\n",
    "warnings.filterwarnings('ignore')"
   ]
  },
  {
   "cell_type": "code",
   "execution_count": 2,
   "id": "f268b4c2",
   "metadata": {},
   "outputs": [],
   "source": [
    "#importing our dataset and removing the filename column\n",
    "import pandas as pd\n",
    "data=pd.read_csv(\"C:/Users/Mathan_warrior/Desktop/SEt/Infant cry detection and Analysis using Artificial intelligence and Machine Learning/infant cry dataset.csv\")\n",
    "data=data.drop(['Cry_Audio_File'],axis=1)"
   ]
  },
  {
   "cell_type": "code",
   "execution_count": 3,
   "id": "1f4e3c7e",
   "metadata": {},
   "outputs": [
    {
     "name": "stdout",
     "output_type": "stream",
     "text": [
      "(364, 23)\n",
      "(91, 23)\n",
      "(364,)\n",
      "(91,)\n"
     ]
    }
   ],
   "source": [
    "#Creating training and testing datas\n",
    "genre_list = data['Cry_Reason']\n",
    "encoder = LabelEncoder()\n",
    "y = encoder.fit_transform(genre_list)\n",
    "scaler = StandardScaler()\n",
    "X = scaler.fit_transform(np.array(data.iloc[:, :-1], dtype = float))\n",
    "X_train, X_test, y_train, y_test = train_test_split(X, y, test_size=0.2)\n",
    "for i in X_train, X_test, y_train, y_test:\n",
    "    print(i.shape)"
   ]
  },
  {
   "cell_type": "code",
   "execution_count": 14,
   "id": "347e45e6",
   "metadata": {},
   "outputs": [
    {
     "name": "stdout",
     "output_type": "stream",
     "text": [
      "Model: \"sequential_1\"\n",
      "_________________________________________________________________\n",
      " Layer (type)                Output Shape              Param #   \n",
      "=================================================================\n",
      " dense_4 (Dense)             (None, 256)               6144      \n",
      "                                                                 \n",
      " dense_5 (Dense)             (None, 128)               32896     \n",
      "                                                                 \n",
      " dense_6 (Dense)             (None, 64)                8256      \n",
      "                                                                 \n",
      " dense_7 (Dense)             (None, 5)                 325       \n",
      "                                                                 \n",
      "=================================================================\n",
      "Total params: 47,621\n",
      "Trainable params: 47,621\n",
      "Non-trainable params: 0\n",
      "_________________________________________________________________\n"
     ]
    }
   ],
   "source": [
    "#Adding layers(Convolutional,pooling,dense layers)\n",
    "from keras import models\n",
    "from keras import layers\n",
    "cnnmodel = models.Sequential()\n",
    "cnnmodel.add(layers.Dense(256, activation='relu', input_shape=(X_train.shape[1],)))\n",
    "cnnmodel.add(layers.Dense(128, activation='relu'))\n",
    "cnnmodel.add(layers.Dense(64, activation='relu'))\n",
    "cnnmodel.add(layers.Dense(5, activation='softmax'))\n",
    "cnnmodel.summary()"
   ]
  },
  {
   "cell_type": "code",
   "execution_count": 15,
   "id": "c0ad46ce",
   "metadata": {},
   "outputs": [],
   "source": [
    "#Optimising the model\n",
    "cnnmodel.compile(optimizer='adam',\n",
    "              loss='sparse_categorical_crossentropy',\n",
    "              metrics=['accuracy'])"
   ]
  },
  {
   "cell_type": "code",
   "execution_count": 17,
   "id": "996ee5e0",
   "metadata": {},
   "outputs": [
    {
     "name": "stdout",
     "output_type": "stream",
     "text": [
      "Epoch 1/20\n",
      "3/3 [==============================] - 0s 24ms/step - loss: 0.2128 - accuracy: 0.9313\n",
      "Epoch 2/20\n",
      "3/3 [==============================] - 0s 15ms/step - loss: 0.1883 - accuracy: 0.9341\n",
      "Epoch 3/20\n",
      "3/3 [==============================] - 0s 8ms/step - loss: 0.1663 - accuracy: 0.9396\n",
      "Epoch 4/20\n",
      "3/3 [==============================] - 0s 10ms/step - loss: 0.1459 - accuracy: 0.9560\n",
      "Epoch 5/20\n",
      "3/3 [==============================] - 0s 14ms/step - loss: 0.1250 - accuracy: 0.9725\n",
      "Epoch 6/20\n",
      "3/3 [==============================] - 0s 12ms/step - loss: 0.1068 - accuracy: 0.9753\n",
      "Epoch 7/20\n",
      "3/3 [==============================] - 0s 12ms/step - loss: 0.0913 - accuracy: 0.9808\n",
      "Epoch 8/20\n",
      "3/3 [==============================] - 0s 14ms/step - loss: 0.0764 - accuracy: 0.9890\n",
      "Epoch 9/20\n",
      "3/3 [==============================] - 0s 11ms/step - loss: 0.0638 - accuracy: 0.9918\n",
      "Epoch 10/20\n",
      "3/3 [==============================] - 0s 6ms/step - loss: 0.0543 - accuracy: 0.9945\n",
      "Epoch 11/20\n",
      "3/3 [==============================] - 0s 17ms/step - loss: 0.0451 - accuracy: 1.0000\n",
      "Epoch 12/20\n",
      "3/3 [==============================] - 0s 10ms/step - loss: 0.0384 - accuracy: 1.0000\n",
      "Epoch 13/20\n",
      "3/3 [==============================] - 0s 10ms/step - loss: 0.0326 - accuracy: 1.0000\n",
      "Epoch 14/20\n",
      "3/3 [==============================] - 0s 16ms/step - loss: 0.0281 - accuracy: 1.0000\n",
      "Epoch 15/20\n",
      "3/3 [==============================] - 0s 12ms/step - loss: 0.0242 - accuracy: 1.0000\n",
      "Epoch 16/20\n",
      "3/3 [==============================] - 0s 17ms/step - loss: 0.0212 - accuracy: 1.0000\n",
      "Epoch 17/20\n",
      "3/3 [==============================] - 0s 13ms/step - loss: 0.0187 - accuracy: 1.0000\n",
      "Epoch 18/20\n",
      "3/3 [==============================] - 0s 10ms/step - loss: 0.0162 - accuracy: 1.0000\n",
      "Epoch 19/20\n",
      "3/3 [==============================] - 0s 15ms/step - loss: 0.0147 - accuracy: 1.0000\n",
      "Epoch 20/20\n",
      "3/3 [==============================] - 0s 8ms/step - loss: 0.0130 - accuracy: 1.0000\n"
     ]
    }
   ],
   "source": [
    "#training data\n",
    "history = cnnmodel.fit(X_train,\n",
    "                    y_train,\n",
    "                    epochs=20,\n",
    "                    batch_size=128)"
   ]
  },
  {
   "cell_type": "code",
   "execution_count": 18,
   "id": "897bb67b",
   "metadata": {},
   "outputs": [
    {
     "name": "stdout",
     "output_type": "stream",
     "text": [
      "3/3 [==============================] - 0s 15ms/step - loss: 0.2321 - accuracy: 0.9451\n",
      "test accuracy:  94.51 %\n"
     ]
    }
   ],
   "source": [
    "test_loss, test_acc = cnnmodel.evaluate(X_test,y_test)\n",
    "print('test accuracy: ',round(test_acc*100,2),'%')"
   ]
  },
  {
   "cell_type": "code",
   "execution_count": 19,
   "id": "6a3b447d",
   "metadata": {},
   "outputs": [
    {
     "name": "stdout",
     "output_type": "stream",
     "text": [
      "Testing accuracy = 0.8351648351648352\n"
     ]
    }
   ],
   "source": [
    "#SVM\n",
    "#normalize\n",
    "from sklearn.preprocessing import StandardScaler\n",
    "from sklearn.svm import SVC\n",
    "from sklearn.metrics import confusion_matrix, accuracy_score\n",
    "sc = StandardScaler()\n",
    "X_train_svm = sc.fit_transform(X_train)\n",
    "X_test_svm = sc.transform(X_test)\n",
    "classifier = SVC(kernel = 'rbf', random_state = 42)\n",
    "classifier.fit(X_train_svm, y_train)\n",
    "y_pred = classifier.predict(X_test_svm)\n",
    "print(\"Testing accuracy =\",accuracy_score(y_test,y_pred))"
   ]
  },
  {
   "cell_type": "code",
   "execution_count": 20,
   "id": "ff3e3d0a",
   "metadata": {},
   "outputs": [
    {
     "name": "stdout",
     "output_type": "stream",
     "text": [
      "Testing accuracy = 1.0\n"
     ]
    }
   ],
   "source": [
    "#Decision tree\n",
    "from sklearn.tree import DecisionTreeClassifier\n",
    "from sklearn.metrics import accuracy_score\n",
    "dtc=DecisionTreeClassifier(random_state=42)\n",
    "model_dtc=dtc.fit(X_train,y_train)\n",
    "tr_pred_dtc=model_dtc.predict(X_train)\n",
    "ts_pred_dtc=model_dtc.predict(X_test)\n",
    "print(\"Testing accuracy =\",accuracy_score(y_test,ts_pred_dtc))"
   ]
  },
  {
   "cell_type": "code",
   "execution_count": 21,
   "id": "9c25ab5c",
   "metadata": {},
   "outputs": [
    {
     "name": "stdout",
     "output_type": "stream",
     "text": [
      "Testing accuracy = 0.9230769230769231\n"
     ]
    }
   ],
   "source": [
    "#Random forest\n",
    "from sklearn.ensemble import RandomForestClassifier\n",
    "from sklearn.metrics import confusion_matrix, accuracy_score\n",
    "rfc=RandomForestClassifier(random_state=42)\n",
    "model_rfc=rfc.fit(X_train,y_train)\n",
    "tr_pred_rfc=model_rfc.predict(X_train)\n",
    "ts_pred_rfc=model_rfc.predict(X_test)\n",
    "print(\"Testing accuracy =\",accuracy_score(y_test,ts_pred_rfc))"
   ]
  },
  {
   "cell_type": "code",
   "execution_count": null,
   "id": "424eb10b",
   "metadata": {},
   "outputs": [],
   "source": []
  }
 ],
 "metadata": {
  "kernelspec": {
   "display_name": "Python 3 (ipykernel)",
   "language": "python",
   "name": "python3"
  },
  "language_info": {
   "codemirror_mode": {
    "name": "ipython",
    "version": 3
   },
   "file_extension": ".py",
   "mimetype": "text/x-python",
   "name": "python",
   "nbconvert_exporter": "python",
   "pygments_lexer": "ipython3",
   "version": "3.9.7"
  }
 },
 "nbformat": 4,
 "nbformat_minor": 5
}
